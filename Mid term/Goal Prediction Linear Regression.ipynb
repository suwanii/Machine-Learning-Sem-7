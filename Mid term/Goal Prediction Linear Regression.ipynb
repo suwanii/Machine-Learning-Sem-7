{
 "cells": [
  {
   "cell_type": "code",
   "execution_count": 2,
   "metadata": {},
   "outputs": [],
   "source": [
    "import pandas as pd\n",
    "import matplotlib.pyplot as plt\n",
    "from sklearn.linear_model import LinearRegression\n",
    "from sklearn.model_selection import train_test_split\n",
    "from sklearn import metrics\n",
    "import matplotlib.pyplot as plt\n",
    "import seaborn as sns\n",
    "import numpy as np"
   ]
  },
  {
   "cell_type": "code",
   "execution_count": 108,
   "metadata": {},
   "outputs": [],
   "source": [
    "# using qualification data to predict world cup goals\n",
    "#dfFIFAdata_final = pd.read_csv(r\"D:\\Semester 7\\Machine Learning\\Assignment\\DataPoisson_wtemp_pop_gdp_stat.csv\")\n",
    "#dfFIFAdata_final.head()\n",
    "#using fifa data to predict world cup\n",
    "#df = pd.read_csv(r\"D:\\Semester 7\\Machine Learning\\Assignment\\DataPoisson_wtemp_pop_gdp_stat_FIFA.csv\")\n",
    "#df.head()"
   ]
  },
  {
   "cell_type": "code",
   "execution_count": 109,
   "metadata": {
    "collapsed": true
   },
   "outputs": [
    {
     "data": {
      "text/plain": [
       "\"goal_model_data = pd.concat([df[['home_team','away_team','home_goals','Total_Score_home_team',\\n                                       'Total_count_home_team','HomeTeamRank_Difference',\\n                                           'tournament','homeTemp_diff','home_pop','Hteam_gdp',\\n                                     'HT_Hattack','HT_Aattack','HT_Hdefense','HT_Adefense']].assign(home=1).rename(\\n            columns={'home_team':'team', 'away_team':'opponent','home_goals':'goals',\\n                     'Total_Score_home_team':'total_score','Total_count_home_team':'total_count',\\n                     'HomeTeamRank_Difference':'rank_difference','tournament':'tournament',\\n                    'homeTemp_diff':'Temp_diff','home_pop':'population','Hteam_gdp':'gdp',\\n                    'HT_Hattack':'Home_attackS','HT_Aattack':'Away_attackS','HT_Hdefense':'Home_defenseS',\\n                    'HT_Adefense':'Away_defenseS'}),\\n           df[['away_team','home_team','away_goals','Total_Score_away_team','Total_count_away_team',\\n                     'AwayTeamRank_Difference','tournament','awayTemp_diff','away_pop','Ateam_gdp',\\n                   'AT_Hattack','AT_Aattack','AT_Hdefense','AT_Adefense']].assign(home=0).rename(\\n            columns={'away_team':'team', 'home_team':'opponent','away_goals':'goals',\\n                    'Total_Score_away_team':'total_score','Total_count_away_team':'total_count',\\n                     'AwayTeamRank_Difference':'rank_difference','tournament':'tournament',\\n                    'awayTemp_diff':'Temp_diff','away_pop':'population','Ateam_gdp':'gdp',\\n                    'AT_Hattack':'Home_attackS','AT_Aattack':'Away_attackS','AT_Hdefense':'Home_defenseS',\\n                     'AT_Adefense':'Away_defenseS'})])\\n\""
      ]
     },
     "execution_count": 109,
     "metadata": {},
     "output_type": "execute_result"
    }
   ],
   "source": [
    "'''goal_model_data = pd.concat([df[['home_team','away_team','home_goals','Total_Score_home_team',\n",
    "                                       'Total_count_home_team','HomeTeamRank_Difference',\n",
    "                                           'tournament','homeTemp_diff','home_pop','Hteam_gdp',\n",
    "                                     'HT_Hattack','HT_Aattack','HT_Hdefense','HT_Adefense']].assign(home=1).rename(\n",
    "            columns={'home_team':'team', 'away_team':'opponent','home_goals':'goals',\n",
    "                     'Total_Score_home_team':'total_score','Total_count_home_team':'total_count',\n",
    "                     'HomeTeamRank_Difference':'rank_difference','tournament':'tournament',\n",
    "                    'homeTemp_diff':'Temp_diff','home_pop':'population','Hteam_gdp':'gdp',\n",
    "                    'HT_Hattack':'Home_attackS','HT_Aattack':'Away_attackS','HT_Hdefense':'Home_defenseS',\n",
    "                    'HT_Adefense':'Away_defenseS'}),\n",
    "           df[['away_team','home_team','away_goals','Total_Score_away_team','Total_count_away_team',\n",
    "                     'AwayTeamRank_Difference','tournament','awayTemp_diff','away_pop','Ateam_gdp',\n",
    "                   'AT_Hattack','AT_Aattack','AT_Hdefense','AT_Adefense']].assign(home=0).rename(\n",
    "            columns={'away_team':'team', 'home_team':'opponent','away_goals':'goals',\n",
    "                    'Total_Score_away_team':'total_score','Total_count_away_team':'total_count',\n",
    "                     'AwayTeamRank_Difference':'rank_difference','tournament':'tournament',\n",
    "                    'awayTemp_diff':'Temp_diff','away_pop':'population','Ateam_gdp':'gdp',\n",
    "                    'AT_Hattack':'Home_attackS','AT_Aattack':'Away_attackS','AT_Hdefense':'Home_defenseS',\n",
    "                     'AT_Adefense':'Away_defenseS'})])\n",
    "'''"
   ]
  },
  {
   "cell_type": "code",
   "execution_count": 110,
   "metadata": {
    "collapsed": true
   },
   "outputs": [
    {
     "data": {
      "text/plain": [
       "\"\\ngoal_model_data = pd.concat([df[['home_team','away_team','home_goals','Total_Score_home_team',\\n                                       'Total_count_home_team','HomeTeamRank_Difference',\\n                                           'tournament','homeTemp_diff','home_pop','Hteam_gdp',\\n                                     'HT_Hattack','HT_Hdefense']].assign(home=1).rename(\\n            columns={'home_team':'team', 'away_team':'opponent','home_goals':'goals',\\n                     'Total_Score_home_team':'total_score','Total_count_home_team':'total_count',\\n                     'HomeTeamRank_Difference':'rank_difference','tournament':'tournament',\\n                    'homeTemp_diff':'Temp_diff','home_pop':'population','Hteam_gdp':'gdp',\\n                    'HT_Hattack':'attackS','HT_Hdefense':'defenseS'}),\\n           df[['away_team','home_team','away_goals','Total_Score_away_team','Total_count_away_team',\\n                     'AwayTeamRank_Difference','tournament','awayTemp_diff','away_pop','Ateam_gdp',\\n                   'AT_Aattack','AT_Adefense']].assign(home=0).rename(\\n            columns={'away_team':'team', 'home_team':'opponent','away_goals':'goals',\\n                    'Total_Score_away_team':'total_score','Total_count_away_team':'total_count',\\n                     'AwayTeamRank_Difference':'rank_difference','tournament':'tournament',\\n                    'awayTemp_diff':'Temp_diff','away_pop':'population','Ateam_gdp':'gdp',\\n                    'AT_Aattack':'attackS','AT_Adefense':'defenseS'})])\\n\""
      ]
     },
     "execution_count": 110,
     "metadata": {},
     "output_type": "execute_result"
    }
   ],
   "source": [
    "'''\n",
    "goal_model_data = pd.concat([df[['home_team','away_team','home_goals','Total_Score_home_team',\n",
    "                                       'Total_count_home_team','HomeTeamRank_Difference',\n",
    "                                           'tournament','homeTemp_diff','home_pop','Hteam_gdp',\n",
    "                                     'HT_Hattack','HT_Hdefense']].assign(home=1).rename(\n",
    "            columns={'home_team':'team', 'away_team':'opponent','home_goals':'goals',\n",
    "                     'Total_Score_home_team':'total_score','Total_count_home_team':'total_count',\n",
    "                     'HomeTeamRank_Difference':'rank_difference','tournament':'tournament',\n",
    "                    'homeTemp_diff':'Temp_diff','home_pop':'population','Hteam_gdp':'gdp',\n",
    "                    'HT_Hattack':'attackS','HT_Hdefense':'defenseS'}),\n",
    "           df[['away_team','home_team','away_goals','Total_Score_away_team','Total_count_away_team',\n",
    "                     'AwayTeamRank_Difference','tournament','awayTemp_diff','away_pop','Ateam_gdp',\n",
    "                   'AT_Aattack','AT_Adefense']].assign(home=0).rename(\n",
    "            columns={'away_team':'team', 'home_team':'opponent','away_goals':'goals',\n",
    "                    'Total_Score_away_team':'total_score','Total_count_away_team':'total_count',\n",
    "                     'AwayTeamRank_Difference':'rank_difference','tournament':'tournament',\n",
    "                    'awayTemp_diff':'Temp_diff','away_pop':'population','Ateam_gdp':'gdp',\n",
    "                    'AT_Aattack':'attackS','AT_Adefense':'defenseS'})])\n",
    "'''"
   ]
  },
  {
   "cell_type": "code",
   "execution_count": 111,
   "metadata": {},
   "outputs": [],
   "source": [
    "#goal_model_data['Home_attackS^2'] = goal_model_data['Home_attackS'] ** 2\n",
    "#goal_model_data['Away_attackS^2'] = goal_model_data['Away_attackS'] ** 2\n",
    "#goal_model_data['Home_defenseS^2'] = goal_model_data['Home_defenseS'] ** 2\n",
    "#goal_model_data['Away_defenseS^2'] = goal_model_data['Away_defenseS'] ** 2\n",
    "#goal_model_data['attackS^2'] = goal_model_data['attackS'] ** 2\n",
    "#goal_model_data['attackS^2'] = goal_model_data['attackS'] ** 2\n"
   ]
  },
  {
   "cell_type": "code",
   "execution_count": 100,
   "metadata": {
    "scrolled": true
   },
   "outputs": [
    {
     "data": {
      "text/html": [
       "<div>\n",
       "<style scoped>\n",
       "    .dataframe tbody tr th:only-of-type {\n",
       "        vertical-align: middle;\n",
       "    }\n",
       "\n",
       "    .dataframe tbody tr th {\n",
       "        vertical-align: top;\n",
       "    }\n",
       "\n",
       "    .dataframe thead th {\n",
       "        text-align: right;\n",
       "    }\n",
       "</style>\n",
       "<table border=\"1\" class=\"dataframe\">\n",
       "  <thead>\n",
       "    <tr style=\"text-align: right;\">\n",
       "      <th></th>\n",
       "      <th>Unnamed: 0</th>\n",
       "      <th>Year</th>\n",
       "      <th>team</th>\n",
       "      <th>away_goals_conceded</th>\n",
       "      <th>away_score</th>\n",
       "      <th>away_games</th>\n",
       "      <th>home_score</th>\n",
       "      <th>home_goals_conceded</th>\n",
       "      <th>home_games</th>\n",
       "      <th>hs_mean</th>\n",
       "      <th>...</th>\n",
       "      <th>host_temp</th>\n",
       "      <th>team_temp</th>\n",
       "      <th>temp_diff</th>\n",
       "      <th>team_pop</th>\n",
       "      <th>team_gdp</th>\n",
       "      <th>total_goals_scored</th>\n",
       "      <th>H_DefenseS^2</th>\n",
       "      <th>A_DefenseS^2</th>\n",
       "      <th>A_AttackS^2</th>\n",
       "      <th>H_AttackS^2</th>\n",
       "    </tr>\n",
       "  </thead>\n",
       "  <tbody>\n",
       "    <tr>\n",
       "      <th>0</th>\n",
       "      <td>0</td>\n",
       "      <td>1930</td>\n",
       "      <td>Argentina</td>\n",
       "      <td>4</td>\n",
       "      <td>2</td>\n",
       "      <td>1</td>\n",
       "      <td>16</td>\n",
       "      <td>5</td>\n",
       "      <td>4</td>\n",
       "      <td>2.277778</td>\n",
       "      <td>...</td>\n",
       "      <td>17.384833</td>\n",
       "      <td>14.843417</td>\n",
       "      <td>-2.541417</td>\n",
       "      <td>20481779.0</td>\n",
       "      <td>0.000000e+00</td>\n",
       "      <td>18</td>\n",
       "      <td>0.601962</td>\n",
       "      <td>3.083879</td>\n",
       "      <td>1.541023</td>\n",
       "      <td>3.083879</td>\n",
       "    </tr>\n",
       "    <tr>\n",
       "      <th>1</th>\n",
       "      <td>1</td>\n",
       "      <td>1930</td>\n",
       "      <td>Brazil</td>\n",
       "      <td>0</td>\n",
       "      <td>4</td>\n",
       "      <td>1</td>\n",
       "      <td>1</td>\n",
       "      <td>2</td>\n",
       "      <td>1</td>\n",
       "      <td>2.277778</td>\n",
       "      <td>...</td>\n",
       "      <td>17.384833</td>\n",
       "      <td>24.843833</td>\n",
       "      <td>7.459000</td>\n",
       "      <td>72179226.0</td>\n",
       "      <td>1.516557e+10</td>\n",
       "      <td>5</td>\n",
       "      <td>1.541023</td>\n",
       "      <td>0.000000</td>\n",
       "      <td>6.164090</td>\n",
       "      <td>0.192742</td>\n",
       "    </tr>\n",
       "    <tr>\n",
       "      <th>2</th>\n",
       "      <td>2</td>\n",
       "      <td>1930</td>\n",
       "      <td>Chile</td>\n",
       "      <td>3</td>\n",
       "      <td>1</td>\n",
       "      <td>1</td>\n",
       "      <td>4</td>\n",
       "      <td>0</td>\n",
       "      <td>2</td>\n",
       "      <td>2.277778</td>\n",
       "      <td>...</td>\n",
       "      <td>17.384833</td>\n",
       "      <td>9.646333</td>\n",
       "      <td>-7.738500</td>\n",
       "      <td>8132990.0</td>\n",
       "      <td>4.110000e+09</td>\n",
       "      <td>5</td>\n",
       "      <td>0.000000</td>\n",
       "      <td>1.734682</td>\n",
       "      <td>0.385256</td>\n",
       "      <td>0.770970</td>\n",
       "    </tr>\n",
       "    <tr>\n",
       "      <th>3</th>\n",
       "      <td>3</td>\n",
       "      <td>1930</td>\n",
       "      <td>France</td>\n",
       "      <td>2</td>\n",
       "      <td>0</td>\n",
       "      <td>2</td>\n",
       "      <td>4</td>\n",
       "      <td>1</td>\n",
       "      <td>1</td>\n",
       "      <td>2.277778</td>\n",
       "      <td>...</td>\n",
       "      <td>17.384833</td>\n",
       "      <td>13.168750</td>\n",
       "      <td>-4.216083</td>\n",
       "      <td>46621669.0</td>\n",
       "      <td>6.265147e+10</td>\n",
       "      <td>4</td>\n",
       "      <td>0.385256</td>\n",
       "      <td>0.192742</td>\n",
       "      <td>0.000000</td>\n",
       "      <td>3.083879</td>\n",
       "    </tr>\n",
       "    <tr>\n",
       "      <th>4</th>\n",
       "      <td>4</td>\n",
       "      <td>1930</td>\n",
       "      <td>Mexico</td>\n",
       "      <td>13</td>\n",
       "      <td>4</td>\n",
       "      <td>3</td>\n",
       "      <td>0</td>\n",
       "      <td>0</td>\n",
       "      <td>0</td>\n",
       "      <td>2.277778</td>\n",
       "      <td>...</td>\n",
       "      <td>17.384833</td>\n",
       "      <td>20.613583</td>\n",
       "      <td>3.228750</td>\n",
       "      <td>37771859.0</td>\n",
       "      <td>1.304000e+10</td>\n",
       "      <td>4</td>\n",
       "      <td>0.000000</td>\n",
       "      <td>3.619274</td>\n",
       "      <td>0.684899</td>\n",
       "      <td>0.000000</td>\n",
       "    </tr>\n",
       "  </tbody>\n",
       "</table>\n",
       "<p>5 rows × 29 columns</p>\n",
       "</div>"
      ],
      "text/plain": [
       "   Unnamed: 0  Year       team  away_goals_conceded  away_score  away_games  \\\n",
       "0           0  1930  Argentina                    4           2           1   \n",
       "1           1  1930     Brazil                    0           4           1   \n",
       "2           2  1930      Chile                    3           1           1   \n",
       "3           3  1930     France                    2           0           2   \n",
       "4           4  1930     Mexico                   13           4           3   \n",
       "\n",
       "   home_score  home_goals_conceded  home_games   hs_mean  ...  host_temp  \\\n",
       "0          16                    5           4  2.277778  ...  17.384833   \n",
       "1           1                    2           1  2.277778  ...  17.384833   \n",
       "2           4                    0           2  2.277778  ...  17.384833   \n",
       "3           4                    1           1  2.277778  ...  17.384833   \n",
       "4           0                    0           0  2.277778  ...  17.384833   \n",
       "\n",
       "   team_temp  temp_diff    team_pop      team_gdp  total_goals_scored  \\\n",
       "0  14.843417  -2.541417  20481779.0  0.000000e+00                  18   \n",
       "1  24.843833   7.459000  72179226.0  1.516557e+10                   5   \n",
       "2   9.646333  -7.738500   8132990.0  4.110000e+09                   5   \n",
       "3  13.168750  -4.216083  46621669.0  6.265147e+10                   4   \n",
       "4  20.613583   3.228750  37771859.0  1.304000e+10                   4   \n",
       "\n",
       "   H_DefenseS^2  A_DefenseS^2 A_AttackS^2  H_AttackS^2  \n",
       "0      0.601962      3.083879    1.541023     3.083879  \n",
       "1      1.541023      0.000000    6.164090     0.192742  \n",
       "2      0.000000      1.734682    0.385256     0.770970  \n",
       "3      0.385256      0.192742    0.000000     3.083879  \n",
       "4      0.000000      3.619274    0.684899     0.000000  \n",
       "\n",
       "[5 rows x 29 columns]"
      ]
     },
     "execution_count": 100,
     "metadata": {},
     "output_type": "execute_result"
    }
   ],
   "source": [
    "dfFIFAdata_final_wtemp_pop_gdp =pd.read_csv(r\"D:\\Semester 7\\Machine Learning\\Assignment\\dfFIFAdata_final_wtemp_pop_gdp.csv\")\n",
    "dfFIFAdata_final_wtemp_pop_gdp = dfFIFAdata_final_wtemp_pop_gdp.fillna(0)\n",
    "dfFIFAdata_final_wtemp_pop_gdp['total_goals_scored'] = dfFIFAdata_final_wtemp_pop_gdp['away_score']+dfFIFAdata_final_wtemp_pop_gdp['home_score']\n",
    "dfFIFAdata_final_wtemp_pop_gdp['H_DefenseS^2'] = dfFIFAdata_final_wtemp_pop_gdp['H_DefenseS'] ** 2\n",
    "dfFIFAdata_final_wtemp_pop_gdp['A_DefenseS^2'] = dfFIFAdata_final_wtemp_pop_gdp['A_DefenseS'] ** 2\n",
    "dfFIFAdata_final_wtemp_pop_gdp['A_AttackS^2'] = dfFIFAdata_final_wtemp_pop_gdp['A_AttackS'] ** 2\n",
    "dfFIFAdata_final_wtemp_pop_gdp['H_AttackS^2'] = dfFIFAdata_final_wtemp_pop_gdp['H_AttackS'] ** 2\n",
    "dfFIFAdata_final_wtemp_pop_gdp.head()"
   ]
  },
  {
   "cell_type": "code",
   "execution_count": 119,
   "metadata": {},
   "outputs": [
    {
     "data": {
      "text/plain": [
       "Index(['Unnamed: 0', 'Year', 'team', 'away_goals_conceded', 'away_score',\n",
       "       'away_games', 'home_score', 'home_goals_conceded', 'home_games',\n",
       "       'hs_mean', 'as_mean', 'as_conceded_mean', 'hs_conceded_mean',\n",
       "       'H_AttackS', 'A_AttackS', 'H_DefenseS', 'A_DefenseS', 'WinCount',\n",
       "       'country', 'host_temp', 'team_temp', 'temp_diff', 'team_pop',\n",
       "       'team_gdp', 'total_goals_scored', 'H_DefenseS^2', 'A_DefenseS^2',\n",
       "       'A_AttackS^2', 'H_AttackS^2'],\n",
       "      dtype='object')"
      ]
     },
     "execution_count": 119,
     "metadata": {},
     "output_type": "execute_result"
    }
   ],
   "source": [
    "dfFIFAdata_final_wtemp_pop_gdp.columns"
   ]
  },
  {
   "cell_type": "code",
   "execution_count": 104,
   "metadata": {},
   "outputs": [
    {
     "data": {
      "text/html": [
       "<div>\n",
       "<style scoped>\n",
       "    .dataframe tbody tr th:only-of-type {\n",
       "        vertical-align: middle;\n",
       "    }\n",
       "\n",
       "    .dataframe tbody tr th {\n",
       "        vertical-align: top;\n",
       "    }\n",
       "\n",
       "    .dataframe thead th {\n",
       "        text-align: right;\n",
       "    }\n",
       "</style>\n",
       "<table border=\"1\" class=\"dataframe\">\n",
       "  <thead>\n",
       "    <tr style=\"text-align: right;\">\n",
       "      <th></th>\n",
       "      <th>Year</th>\n",
       "      <th>team</th>\n",
       "      <th>away_goals_conceded</th>\n",
       "      <th>away_score</th>\n",
       "      <th>away_games</th>\n",
       "      <th>home_score</th>\n",
       "      <th>home_goals_conceded</th>\n",
       "      <th>home_games</th>\n",
       "      <th>hs_mean</th>\n",
       "      <th>as_mean</th>\n",
       "      <th>...</th>\n",
       "      <th>H_AttackS</th>\n",
       "      <th>A_AttackS</th>\n",
       "      <th>H_DefenseS</th>\n",
       "      <th>A_DefenseS</th>\n",
       "      <th>FIFAyear</th>\n",
       "      <th>total_goals_scored</th>\n",
       "      <th>H_DefenseS^2</th>\n",
       "      <th>A_DefenseS^2</th>\n",
       "      <th>A_AttackS^2</th>\n",
       "      <th>H_AttackS^2</th>\n",
       "    </tr>\n",
       "  </thead>\n",
       "  <tbody>\n",
       "    <tr>\n",
       "      <th>0</th>\n",
       "      <td>1933</td>\n",
       "      <td>Czechoslovakia</td>\n",
       "      <td>1</td>\n",
       "      <td>2</td>\n",
       "      <td>1</td>\n",
       "      <td>0</td>\n",
       "      <td>0</td>\n",
       "      <td>0</td>\n",
       "      <td>2.200000</td>\n",
       "      <td>2.00000</td>\n",
       "      <td>...</td>\n",
       "      <td>0.000000</td>\n",
       "      <td>1.000000</td>\n",
       "      <td>0.000000</td>\n",
       "      <td>0.454545</td>\n",
       "      <td>1934</td>\n",
       "      <td>2</td>\n",
       "      <td>0.000000</td>\n",
       "      <td>0.206612</td>\n",
       "      <td>1.000000</td>\n",
       "      <td>0.000000</td>\n",
       "    </tr>\n",
       "    <tr>\n",
       "      <th>1</th>\n",
       "      <td>1933</td>\n",
       "      <td>Estonia</td>\n",
       "      <td>6</td>\n",
       "      <td>2</td>\n",
       "      <td>1</td>\n",
       "      <td>0</td>\n",
       "      <td>0</td>\n",
       "      <td>0</td>\n",
       "      <td>2.200000</td>\n",
       "      <td>2.00000</td>\n",
       "      <td>...</td>\n",
       "      <td>0.000000</td>\n",
       "      <td>1.000000</td>\n",
       "      <td>0.000000</td>\n",
       "      <td>2.727273</td>\n",
       "      <td>1934</td>\n",
       "      <td>2</td>\n",
       "      <td>0.000000</td>\n",
       "      <td>7.438017</td>\n",
       "      <td>1.000000</td>\n",
       "      <td>0.000000</td>\n",
       "    </tr>\n",
       "    <tr>\n",
       "      <th>2</th>\n",
       "      <td>1933</td>\n",
       "      <td>Romania</td>\n",
       "      <td>2</td>\n",
       "      <td>2</td>\n",
       "      <td>1</td>\n",
       "      <td>0</td>\n",
       "      <td>0</td>\n",
       "      <td>0</td>\n",
       "      <td>2.200000</td>\n",
       "      <td>2.00000</td>\n",
       "      <td>...</td>\n",
       "      <td>0.000000</td>\n",
       "      <td>1.000000</td>\n",
       "      <td>0.000000</td>\n",
       "      <td>0.909091</td>\n",
       "      <td>1934</td>\n",
       "      <td>2</td>\n",
       "      <td>0.000000</td>\n",
       "      <td>0.826446</td>\n",
       "      <td>1.000000</td>\n",
       "      <td>0.000000</td>\n",
       "    </tr>\n",
       "    <tr>\n",
       "      <th>3</th>\n",
       "      <td>1933</td>\n",
       "      <td>Sweden</td>\n",
       "      <td>0</td>\n",
       "      <td>2</td>\n",
       "      <td>1</td>\n",
       "      <td>6</td>\n",
       "      <td>2</td>\n",
       "      <td>1</td>\n",
       "      <td>2.200000</td>\n",
       "      <td>2.00000</td>\n",
       "      <td>...</td>\n",
       "      <td>2.727273</td>\n",
       "      <td>1.000000</td>\n",
       "      <td>1.000000</td>\n",
       "      <td>0.000000</td>\n",
       "      <td>1934</td>\n",
       "      <td>8</td>\n",
       "      <td>1.000000</td>\n",
       "      <td>0.000000</td>\n",
       "      <td>1.000000</td>\n",
       "      <td>7.438017</td>\n",
       "    </tr>\n",
       "    <tr>\n",
       "      <th>4</th>\n",
       "      <td>1933</td>\n",
       "      <td>Switzerland</td>\n",
       "      <td>2</td>\n",
       "      <td>2</td>\n",
       "      <td>1</td>\n",
       "      <td>2</td>\n",
       "      <td>2</td>\n",
       "      <td>1</td>\n",
       "      <td>2.200000</td>\n",
       "      <td>2.00000</td>\n",
       "      <td>...</td>\n",
       "      <td>0.909091</td>\n",
       "      <td>1.000000</td>\n",
       "      <td>1.000000</td>\n",
       "      <td>0.909091</td>\n",
       "      <td>1934</td>\n",
       "      <td>4</td>\n",
       "      <td>1.000000</td>\n",
       "      <td>0.826446</td>\n",
       "      <td>1.000000</td>\n",
       "      <td>0.826446</td>\n",
       "    </tr>\n",
       "    <tr>\n",
       "      <th>...</th>\n",
       "      <td>...</td>\n",
       "      <td>...</td>\n",
       "      <td>...</td>\n",
       "      <td>...</td>\n",
       "      <td>...</td>\n",
       "      <td>...</td>\n",
       "      <td>...</td>\n",
       "      <td>...</td>\n",
       "      <td>...</td>\n",
       "      <td>...</td>\n",
       "      <td>...</td>\n",
       "      <td>...</td>\n",
       "      <td>...</td>\n",
       "      <td>...</td>\n",
       "      <td>...</td>\n",
       "      <td>...</td>\n",
       "      <td>...</td>\n",
       "      <td>...</td>\n",
       "      <td>...</td>\n",
       "      <td>...</td>\n",
       "      <td>...</td>\n",
       "    </tr>\n",
       "    <tr>\n",
       "      <th>3321</th>\n",
       "      <td>2021</td>\n",
       "      <td>Turkey</td>\n",
       "      <td>0</td>\n",
       "      <td>3</td>\n",
       "      <td>1</td>\n",
       "      <td>7</td>\n",
       "      <td>5</td>\n",
       "      <td>2</td>\n",
       "      <td>1.820755</td>\n",
       "      <td>1.54717</td>\n",
       "      <td>...</td>\n",
       "      <td>1.922280</td>\n",
       "      <td>1.939024</td>\n",
       "      <td>1.615854</td>\n",
       "      <td>0.000000</td>\n",
       "      <td>0</td>\n",
       "      <td>10</td>\n",
       "      <td>2.610983</td>\n",
       "      <td>0.000000</td>\n",
       "      <td>3.759816</td>\n",
       "      <td>3.695160</td>\n",
       "    </tr>\n",
       "    <tr>\n",
       "      <th>3322</th>\n",
       "      <td>2021</td>\n",
       "      <td>Turks and Caicos Islands</td>\n",
       "      <td>5</td>\n",
       "      <td>0</td>\n",
       "      <td>1</td>\n",
       "      <td>0</td>\n",
       "      <td>7</td>\n",
       "      <td>1</td>\n",
       "      <td>1.820755</td>\n",
       "      <td>1.54717</td>\n",
       "      <td>...</td>\n",
       "      <td>0.000000</td>\n",
       "      <td>0.000000</td>\n",
       "      <td>4.524390</td>\n",
       "      <td>2.746114</td>\n",
       "      <td>0</td>\n",
       "      <td>0</td>\n",
       "      <td>20.470107</td>\n",
       "      <td>7.541142</td>\n",
       "      <td>0.000000</td>\n",
       "      <td>0.000000</td>\n",
       "    </tr>\n",
       "    <tr>\n",
       "      <th>3323</th>\n",
       "      <td>2021</td>\n",
       "      <td>U.S. Virgin Islands</td>\n",
       "      <td>1</td>\n",
       "      <td>0</td>\n",
       "      <td>1</td>\n",
       "      <td>0</td>\n",
       "      <td>3</td>\n",
       "      <td>1</td>\n",
       "      <td>1.820755</td>\n",
       "      <td>1.54717</td>\n",
       "      <td>...</td>\n",
       "      <td>0.000000</td>\n",
       "      <td>0.000000</td>\n",
       "      <td>1.939024</td>\n",
       "      <td>0.549223</td>\n",
       "      <td>0</td>\n",
       "      <td>0</td>\n",
       "      <td>3.759816</td>\n",
       "      <td>0.301646</td>\n",
       "      <td>0.000000</td>\n",
       "      <td>0.000000</td>\n",
       "    </tr>\n",
       "    <tr>\n",
       "      <th>3324</th>\n",
       "      <td>2021</td>\n",
       "      <td>Ukraine</td>\n",
       "      <td>1</td>\n",
       "      <td>1</td>\n",
       "      <td>1</td>\n",
       "      <td>2</td>\n",
       "      <td>2</td>\n",
       "      <td>2</td>\n",
       "      <td>1.820755</td>\n",
       "      <td>1.54717</td>\n",
       "      <td>...</td>\n",
       "      <td>0.549223</td>\n",
       "      <td>0.646341</td>\n",
       "      <td>0.646341</td>\n",
       "      <td>0.549223</td>\n",
       "      <td>0</td>\n",
       "      <td>3</td>\n",
       "      <td>0.417757</td>\n",
       "      <td>0.301646</td>\n",
       "      <td>0.417757</td>\n",
       "      <td>0.301646</td>\n",
       "    </tr>\n",
       "    <tr>\n",
       "      <th>3325</th>\n",
       "      <td>2021</td>\n",
       "      <td>Wales</td>\n",
       "      <td>3</td>\n",
       "      <td>1</td>\n",
       "      <td>1</td>\n",
       "      <td>1</td>\n",
       "      <td>0</td>\n",
       "      <td>1</td>\n",
       "      <td>1.820755</td>\n",
       "      <td>1.54717</td>\n",
       "      <td>...</td>\n",
       "      <td>0.549223</td>\n",
       "      <td>0.646341</td>\n",
       "      <td>0.000000</td>\n",
       "      <td>1.647668</td>\n",
       "      <td>0</td>\n",
       "      <td>2</td>\n",
       "      <td>0.000000</td>\n",
       "      <td>2.714811</td>\n",
       "      <td>0.417757</td>\n",
       "      <td>0.301646</td>\n",
       "    </tr>\n",
       "  </tbody>\n",
       "</table>\n",
       "<p>3326 rows × 22 columns</p>\n",
       "</div>"
      ],
      "text/plain": [
       "      Year                      team  away_goals_conceded  away_score  \\\n",
       "0     1933            Czechoslovakia                    1           2   \n",
       "1     1933                   Estonia                    6           2   \n",
       "2     1933                   Romania                    2           2   \n",
       "3     1933                    Sweden                    0           2   \n",
       "4     1933               Switzerland                    2           2   \n",
       "...    ...                       ...                  ...         ...   \n",
       "3321  2021                    Turkey                    0           3   \n",
       "3322  2021  Turks and Caicos Islands                    5           0   \n",
       "3323  2021       U.S. Virgin Islands                    1           0   \n",
       "3324  2021                   Ukraine                    1           1   \n",
       "3325  2021                     Wales                    3           1   \n",
       "\n",
       "      away_games  home_score  home_goals_conceded  home_games   hs_mean  \\\n",
       "0              1           0                    0           0  2.200000   \n",
       "1              1           0                    0           0  2.200000   \n",
       "2              1           0                    0           0  2.200000   \n",
       "3              1           6                    2           1  2.200000   \n",
       "4              1           2                    2           1  2.200000   \n",
       "...          ...         ...                  ...         ...       ...   \n",
       "3321           1           7                    5           2  1.820755   \n",
       "3322           1           0                    7           1  1.820755   \n",
       "3323           1           0                    3           1  1.820755   \n",
       "3324           1           2                    2           2  1.820755   \n",
       "3325           1           1                    0           1  1.820755   \n",
       "\n",
       "      as_mean  ...  H_AttackS  A_AttackS  H_DefenseS  A_DefenseS  FIFAyear  \\\n",
       "0     2.00000  ...   0.000000   1.000000    0.000000    0.454545      1934   \n",
       "1     2.00000  ...   0.000000   1.000000    0.000000    2.727273      1934   \n",
       "2     2.00000  ...   0.000000   1.000000    0.000000    0.909091      1934   \n",
       "3     2.00000  ...   2.727273   1.000000    1.000000    0.000000      1934   \n",
       "4     2.00000  ...   0.909091   1.000000    1.000000    0.909091      1934   \n",
       "...       ...  ...        ...        ...         ...         ...       ...   \n",
       "3321  1.54717  ...   1.922280   1.939024    1.615854    0.000000         0   \n",
       "3322  1.54717  ...   0.000000   0.000000    4.524390    2.746114         0   \n",
       "3323  1.54717  ...   0.000000   0.000000    1.939024    0.549223         0   \n",
       "3324  1.54717  ...   0.549223   0.646341    0.646341    0.549223         0   \n",
       "3325  1.54717  ...   0.549223   0.646341    0.000000    1.647668         0   \n",
       "\n",
       "      total_goals_scored  H_DefenseS^2  A_DefenseS^2  A_AttackS^2  H_AttackS^2  \n",
       "0                      2      0.000000      0.206612     1.000000     0.000000  \n",
       "1                      2      0.000000      7.438017     1.000000     0.000000  \n",
       "2                      2      0.000000      0.826446     1.000000     0.000000  \n",
       "3                      8      1.000000      0.000000     1.000000     7.438017  \n",
       "4                      4      1.000000      0.826446     1.000000     0.826446  \n",
       "...                  ...           ...           ...          ...          ...  \n",
       "3321                  10      2.610983      0.000000     3.759816     3.695160  \n",
       "3322                   0     20.470107      7.541142     0.000000     0.000000  \n",
       "3323                   0      3.759816      0.301646     0.000000     0.000000  \n",
       "3324                   3      0.417757      0.301646     0.417757     0.301646  \n",
       "3325                   2      0.000000      2.714811     0.417757     0.301646  \n",
       "\n",
       "[3326 rows x 22 columns]"
      ]
     },
     "execution_count": 104,
     "metadata": {},
     "output_type": "execute_result"
    }
   ],
   "source": [
    "# qualification\n",
    "dfFIFAqdata = pd.read_csv(r\"D:\\Semester 7\\Machine Learning\\Assignment\\DataFIFAQualifications_stat.csv\")\n",
    "dfFIFAqdata = dfFIFAqdata.fillna(0)\n",
    "dfFIFAqdata['total_goals_scored'] = dfFIFAqdata['away_score']+dfFIFAqdata['home_score']\n",
    "dfFIFAqdata['H_DefenseS^2'] = dfFIFAqdata['H_DefenseS'] ** 2\n",
    "dfFIFAqdata['A_DefenseS^2'] = dfFIFAqdata['A_DefenseS'] ** 2\n",
    "dfFIFAqdata['A_AttackS^2'] = dfFIFAqdata['A_AttackS'] ** 2\n",
    "dfFIFAqdata['H_AttackS^2'] = dfFIFAqdata['H_AttackS'] ** 2\n",
    "\n",
    "dfFIFAqdata"
   ]
  },
  {
   "cell_type": "code",
   "execution_count": 113,
   "metadata": {},
   "outputs": [],
   "source": [
    "X = dfFIFAdata_final_wtemp_pop_gdp[['H_AttackS','A_AttackS','H_DefenseS','A_DefenseS','H_DefenseS^2','A_DefenseS^2','A_AttackS^2','H_AttackS^2','temp_diff','team_pop','team_gdp']]\n",
    "#X = dfFIFAqdata[['H_AttackS','A_AttackS','H_DefenseS','A_DefenseS','H_DefenseS^2','A_DefenseS^2','A_AttackS^2','H_AttackS^2']]\n",
    "\n",
    "#X = dfFIFAdata_final_wtemp_pop_gdp[['H_AttackS','A_AttackS','H_DefenseS','A_DefenseS','temp_diff','team_pop','team_gdp','H_DefenseS^2']]\n",
    "\n",
    "y = dfFIFAdata_final_wtemp_pop_gdp['total_goals_scored']\n",
    "#y = dfFIFAqdata['total_goals_scored']\n",
    "\n",
    "\n",
    "X_train, X_test, y_train, y_test = train_test_split(X, y, test_size=0.33, random_state=42)\n"
   ]
  },
  {
   "cell_type": "code",
   "execution_count": 115,
   "metadata": {},
   "outputs": [],
   "source": [
    "heatmapdata = dfFIFAdata_final_wtemp_pop_gdp[['H_AttackS','A_AttackS','H_DefenseS','A_DefenseS','H_DefenseS^2','A_DefenseS^2','A_AttackS^2','H_AttackS^2','temp_diff','team_pop','team_gdp']]"
   ]
  },
  {
   "cell_type": "code",
   "execution_count": 116,
   "metadata": {},
   "outputs": [
    {
     "data": {
      "image/png": "[encoded data removed]",
      "text/plain": [
       "<Figure size 432x288 with 2 Axes>"
      ]
     },
     "metadata": {
      "needs_background": "light"
     },
     "output_type": "display_data"
    }
   ],
   "source": [
    "sns.heatmap(heatmapdata.corr(),annot=True,cmap='viridis')\n",
    "plt.title('Heatmap of co-relation between variables',fontsize=16)\n",
    "plt.show()"
   ]
  },
  {
   "cell_type": "code",
   "execution_count": 114,
   "metadata": {},
   "outputs": [
    {
     "name": "stdout",
     "output_type": "stream",
     "text": [
      "R^2: 0.8319808456214521\n"
     ]
    }
   ],
   "source": [
    "# Fitting the model\n",
    "FIFA_model = LinearRegression()\n",
    "FIFA_model.fit(X_train, y_train)\n",
    "\n",
    "# Returning the R^2 for the model\n",
    "FIFA_r2 = FIFA_model.score(X_train, y_train)\n",
    "print('R^2: {0}'.format(FIFA_r2))"
   ]
  },
  {
   "cell_type": "code",
   "execution_count": 118,
   "metadata": {},
   "outputs": [
    {
     "name": "stdout",
     "output_type": "stream",
     "text": [
      "R^2: 0.7201118910177723\n"
     ]
    }
   ],
   "source": [
    "X = dfFIFAdata_final_wtemp_pop_gdp[['H_AttackS','A_AttackS','H_DefenseS','A_DefenseS','H_DefenseS^2','A_DefenseS^2','A_AttackS^2','H_AttackS^2','temp_diff','team_pop','team_gdp']]\n",
    "y = dfFIFAdata_final_wtemp_pop_gdp['home_score']\n",
    "\n",
    "X_train, X_test, y_train, y_test = train_test_split(X, y, test_size=0.33, random_state=42)\n",
    "\n",
    "# Fitting the model\n",
    "FIFA_model_home = LinearRegression()\n",
    "FIFA_model_home.fit(X_train, y_train)\n",
    "\n",
    "# Returning the R^2 for the model\n",
    "FIFA_r2 = FIFA_model_home.score(X_train, y_train)\n",
    "print('R^2: {0}'.format(FIFA_r2))"
   ]
  },
  {
   "cell_type": "code",
   "execution_count": 87,
   "metadata": {},
   "outputs": [],
   "source": [
    "def calculate_residuals(model, features, label):\n",
    "    \"\"\"\n",
    "    Creates predictions on the features with the model and calculates residuals\n",
    "    \"\"\"\n",
    "    predictions = model.predict(features)\n",
    "    df_results = pd.DataFrame({'Actual': label, 'Predicted': predictions})\n",
    "    df_results['Residuals'] = abs(df_results['Actual']) - abs(df_results['Predicted'])\n",
    "    \n",
    "    return df_results"
   ]
  },
  {
   "cell_type": "code",
   "execution_count": 88,
   "metadata": {},
   "outputs": [],
   "source": [
    "def linear_assumption(model, features, label):\n",
    "    \"\"\"\n",
    "    Linearity: Assumes that there is a linear relationship between the predictors and\n",
    "               the response variable. If not, either a quadratic term or another\n",
    "               algorithm should be used.\n",
    "    \"\"\"\n",
    "    print('Assumption 1: Linear Relationship between the Target and the Feature', '\\n')\n",
    "        \n",
    "    print('Checking with a scatter plot of actual vs. predicted.',\n",
    "           'Predictions should follow the diagonal line.')\n",
    "    \n",
    "    # Calculating residuals for the plot\n",
    "    df_results = calculate_residuals(model, features, label)\n",
    "    \n",
    "    # Plotting the actual vs predicted values\n",
    "    sns.lmplot(x='Actual', y='Predicted', data=df_results, fit_reg=False, size=7)\n",
    "        \n",
    "    # Plotting the diagonal line\n",
    "    line_coords = np.arange(df_results.min().min(), df_results.max().max())\n",
    "    plt.plot(line_coords, line_coords,  # X and y points\n",
    "             color='darkorange', linestyle='--')\n",
    "    plt.title('Actual vs. Predicted')\n",
    "    plt.show()"
   ]
  },
  {
   "cell_type": "code",
   "execution_count": 89,
   "metadata": {},
   "outputs": [
    {
     "name": "stdout",
     "output_type": "stream",
     "text": [
      "Assumption 1: Linear Relationship between the Target and the Feature \n",
      "\n",
      "Checking with a scatter plot of actual vs. predicted. Predictions should follow the diagonal line.\n"
     ]
    },
    {
     "name": "stderr",
     "output_type": "stream",
     "text": [
      "C:\\Anaconda3\\lib\\site-packages\\seaborn\\regression.py:574: UserWarning: The `size` parameter has been renamed to `height`; please update your code.\n",
      "  warnings.warn(msg, UserWarning)\n"
     ]
    },
    {
     "data": {
      "image/png": "[encoded data removed]",
      "text/plain": [
       "<Figure size 504x504 with 1 Axes>"
      ]
     },
     "metadata": {
      "needs_background": "light"
     },
     "output_type": "display_data"
    }
   ],
   "source": [
    "linear_assumption(FIFA_model, X_train, y_train)"
   ]
  },
  {
   "cell_type": "code",
   "execution_count": 90,
   "metadata": {},
   "outputs": [],
   "source": [
    "def normal_errors_assumption(model, features, label, p_value_thresh=0.05):\n",
    "    \"\"\"\n",
    "    Normality: Assumes that the error terms are normally distributed. If they are not,\n",
    "    nonlinear transformations of variables may solve this.\n",
    "               \n",
    "    This assumption being violated primarily causes issues with the confidence intervals\n",
    "    \"\"\"\n",
    "    from statsmodels.stats.diagnostic import normal_ad\n",
    "    print('Assumption 2: The error terms are normally distributed', '\\n')\n",
    "    \n",
    "    # Calculating residuals for the Anderson-Darling test\n",
    "    df_results = calculate_residuals(model, features, label)\n",
    "    \n",
    "    print('Using the Anderson-Darling test for normal distribution')\n",
    "\n",
    "    # Performing the test on the residuals\n",
    "    p_value = normal_ad(df_results['Residuals'])[1]\n",
    "    print('p-value from the test - below 0.05 generally means non-normal:', p_value)\n",
    "    \n",
    "    # Reporting the normality of the residuals\n",
    "    if p_value < p_value_thresh:\n",
    "        print('Residuals are not normally distributed')\n",
    "    else:\n",
    "        print('Residuals are normally distributed')\n",
    "    \n",
    "    # Plotting the residuals distribution\n",
    "    plt.subplots(figsize=(12, 6))\n",
    "    plt.title('Distribution of Residuals')\n",
    "    sns.distplot(df_results['Residuals'])\n",
    "    plt.show()\n",
    "    \n",
    "    print()\n",
    "    if p_value > p_value_thresh:\n",
    "        print('Assumption satisfied')\n",
    "    else:\n",
    "        print('Assumption not satisfied')\n",
    "        print()\n",
    "        print('Confidence intervals will likely be affected')\n",
    "        print('Try performing nonlinear transformations on variables')"
   ]
  },
  {
   "cell_type": "code",
   "execution_count": 91,
   "metadata": {},
   "outputs": [
    {
     "name": "stdout",
     "output_type": "stream",
     "text": [
      "Assumption 2: The error terms are normally distributed \n",
      "\n",
      "Using the Anderson-Darling test for normal distribution\n",
      "p-value from the test - below 0.05 generally means non-normal: 0.0\n",
      "Residuals are not normally distributed\n"
     ]
    },
    {
     "name": "stderr",
     "output_type": "stream",
     "text": [
      "C:\\Anaconda3\\lib\\site-packages\\statsmodels\\stats\\_adnorm.py:70: RuntimeWarning: divide by zero encountered in log1p\n",
      "  s = np.sum((2 * i[sl1] - 1.0) / nobs * (np.log(z) + np.log1p(-z[sl2])),\n"
     ]
    },
    {
     "data": {
      "image/png": "[encoded data removed]",
      "text/plain": [
       "<Figure size 864x432 with 1 Axes>"
      ]
     },
     "metadata": {
      "needs_background": "light"
     },
     "output_type": "display_data"
    },
    {
     "name": "stdout",
     "output_type": "stream",
     "text": [
      "\n",
      "Assumption not satisfied\n",
      "\n",
      "Confidence intervals will likely be affected\n",
      "Try performing nonlinear transformations on variables\n"
     ]
    }
   ],
   "source": [
    "normal_errors_assumption(FIFA_model, X_train, y_train)"
   ]
  },
  {
   "cell_type": "code",
   "execution_count": 92,
   "metadata": {},
   "outputs": [],
   "source": [
    "def autocorrelation_assumption(model, features, label):\n",
    "    \"\"\"\n",
    "    Autocorrelation: Assumes that there is no autocorrelation in the residuals. If there is\n",
    "                     autocorrelation, then there is a pattern that is not explained due to\n",
    "                     the current value being dependent on the previous value.\n",
    "                     This may be resolved by adding a lag variable of either the dependent\n",
    "                     variable or some of the predictors.\n",
    "    \"\"\"\n",
    "    from statsmodels.stats.stattools import durbin_watson\n",
    "    print('Assumption 4: No Autocorrelation', '\\n')\n",
    "    \n",
    "    # Calculating residuals for the Durbin Watson-tests\n",
    "    df_results = calculate_residuals(model, features, label)\n",
    "\n",
    "    print('\\nPerforming Durbin-Watson Test')\n",
    "    print('Values of 1.5 < d < 2.5 generally show that there is no autocorrelation in the data')\n",
    "    print('0 to 2< is positive autocorrelation')\n",
    "    print('>2 to 4 is negative autocorrelation')\n",
    "    print('-------------------------------------')\n",
    "    durbinWatson = durbin_watson(df_results['Residuals'])\n",
    "    print('Durbin-Watson:', durbinWatson)\n",
    "    if durbinWatson < 1.5:\n",
    "        print('Signs of positive autocorrelation', '\\n')\n",
    "        print('Assumption not satisfied')\n",
    "    elif durbinWatson > 2.5:\n",
    "        print('Signs of negative autocorrelation', '\\n')\n",
    "        print('Assumption not satisfied')\n",
    "    else:\n",
    "        print('Little to no autocorrelation', '\\n')\n",
    "        print('Assumption satisfied')"
   ]
  },
  {
   "cell_type": "code",
   "execution_count": 93,
   "metadata": {},
   "outputs": [
    {
     "name": "stdout",
     "output_type": "stream",
     "text": [
      "Assumption 4: No Autocorrelation \n",
      "\n",
      "\n",
      "Performing Durbin-Watson Test\n",
      "Values of 1.5 < d < 2.5 generally show that there is no autocorrelation in the data\n",
      "0 to 2< is positive autocorrelation\n",
      ">2 to 4 is negative autocorrelation\n",
      "-------------------------------------\n",
      "Durbin-Watson: 1.9351642686612316\n",
      "Little to no autocorrelation \n",
      "\n",
      "Assumption satisfied\n"
     ]
    }
   ],
   "source": [
    "autocorrelation_assumption(FIFA_model, X_train, y_train)"
   ]
  },
  {
   "cell_type": "code",
   "execution_count": 94,
   "metadata": {},
   "outputs": [],
   "source": [
    "def homoscedasticity_assumption(model, features, label):\n",
    "    \"\"\"\n",
    "    Homoscedasticity: Assumes that the errors exhibit constant variance\n",
    "    \"\"\"\n",
    "    print('Assumption 5: Homoscedasticity of Error Terms', '\\n')\n",
    "    \n",
    "    print('Residuals should have relative constant variance')\n",
    "        \n",
    "    # Calculating residuals for the plot\n",
    "    df_results = calculate_residuals(model, features, label)\n",
    "\n",
    "    # Plotting the residuals\n",
    "    plt.subplots(figsize=(12, 6))\n",
    "    ax = plt.subplot(111)  # To remove spines\n",
    "    plt.scatter(x=df_results.index, y=df_results.Residuals, alpha=0.5)\n",
    "    plt.plot(np.repeat(0, df_results.index.max()), color='darkorange', linestyle='--')\n",
    "    ax.spines['right'].set_visible(False)  # Removing the right spine\n",
    "    ax.spines['top'].set_visible(False)  # Removing the top spine\n",
    "    plt.title('Residuals')\n",
    "    plt.show()  "
   ]
  },
  {
   "cell_type": "code",
   "execution_count": 95,
   "metadata": {},
   "outputs": [
    {
     "name": "stdout",
     "output_type": "stream",
     "text": [
      "Assumption 5: Homoscedasticity of Error Terms \n",
      "\n",
      "Residuals should have relative constant variance\n"
     ]
    },
    {
     "data": {
      "image/png": "[encoded data removed]",
      "text/plain": [
       "<Figure size 864x432 with 1 Axes>"
      ]
     },
     "metadata": {
      "needs_background": "light"
     },
     "output_type": "display_data"
    }
   ],
   "source": [
    "homoscedasticity_assumption(FIFA_model, X_train, y_train)"
   ]
  },
  {
   "cell_type": "code",
   "execution_count": 5,
   "metadata": {},
   "outputs": [
    {
     "data": {
      "image/png": "[encoded data removed]",
      "text/plain": [
       "<Figure size 432x288 with 1 Axes>"
      ]
     },
     "metadata": {
      "needs_background": "light"
     },
     "output_type": "display_data"
    }
   ],
   "source": [
    "plt.scatter(df['H_AttackS'], df['WinCount'], color='red')\n",
    "plt.title('WinCount Vs H_AttackS', fontsize=14)\n",
    "plt.xlabel('H_AttackS', fontsize=14)\n",
    "plt.ylabel('WinCount', fontsize=14)\n",
    "plt.grid(True)\n",
    "plt.show()"
   ]
  },
  {
   "cell_type": "code",
   "execution_count": 8,
   "metadata": {},
   "outputs": [
    {
     "data": {
      "image/png": "[encoded data removed]",
      "text/plain": [
       "<Figure size 432x288 with 1 Axes>"
      ]
     },
     "metadata": {
      "needs_background": "light"
     },
     "output_type": "display_data"
    }
   ],
   "source": [
    "plt.scatter(df['A_DefenseS'], df['WinCount'], color='red')\n",
    "plt.title('WinCount Vs H_AttackS', fontsize=14)\n",
    "plt.xlabel('A_DefenseS', fontsize=14)\n",
    "plt.ylabel('WinCount', fontsize=14)\n",
    "plt.grid(True)\n",
    "plt.show()"
   ]
  },
  {
   "cell_type": "code",
   "execution_count": null,
   "metadata": {},
   "outputs": [],
   "source": []
  }
 ],
 "metadata": {
  "kernelspec": {
   "display_name": "Python 3",
   "language": "python",
   "name": "python3"
  },
  "language_info": {
   "codemirror_mode": {
    "name": "ipython",
    "version": 3
   },
   "file_extension": ".py",
   "mimetype": "text/x-python",
   "name": "python",
   "nbconvert_exporter": "python",
   "pygments_lexer": "ipython3",
   "version": "3.7.6"
  }
 },
 "nbformat": 4,
 "nbformat_minor": 4
}
