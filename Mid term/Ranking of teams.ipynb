{
 "cells": [
  {
   "cell_type": "code",
   "execution_count": 9,
   "metadata": {},
   "outputs": [],
   "source": [
    "import pandas as pd\n",
    "import numpy as np\n",
    "from collections import Counter"
   ]
  },
  {
   "cell_type": "code",
   "execution_count": 51,
   "metadata": {},
   "outputs": [],
   "source": [
    "df = pd.read_csv(r\"C:\\Users\\Suwani Gunasekara\\OneDrive\\Documents\\Sem 7 ML\\Mid term\\results.csv\")"
   ]
  },
  {
   "cell_type": "code",
   "execution_count": 52,
   "metadata": {},
   "outputs": [],
   "source": [
    "newdate = df[\"date\"].str.split(\"-\",n=1, expand = True) \n",
    "newdate.head()\n",
    "# combing year values as a new column to df\n",
    "df['Year'] = newdate[0].astype(int)"
   ]
  },
  {
   "cell_type": "code",
   "execution_count": 53,
   "metadata": {},
   "outputs": [],
   "source": [
    "#df = df.loc[df.Year >= 2000]"
   ]
  },
  {
   "cell_type": "code",
   "execution_count": 54,
   "metadata": {},
   "outputs": [
    {
     "data": {
      "text/html": [
       "<div>\n",
       "<style scoped>\n",
       "    .dataframe tbody tr th:only-of-type {\n",
       "        vertical-align: middle;\n",
       "    }\n",
       "\n",
       "    .dataframe tbody tr th {\n",
       "        vertical-align: top;\n",
       "    }\n",
       "\n",
       "    .dataframe thead th {\n",
       "        text-align: right;\n",
       "    }\n",
       "</style>\n",
       "<table border=\"1\" class=\"dataframe\">\n",
       "  <thead>\n",
       "    <tr style=\"text-align: right;\">\n",
       "      <th></th>\n",
       "      <th>date</th>\n",
       "      <th>home_team</th>\n",
       "      <th>away_team</th>\n",
       "      <th>home_score</th>\n",
       "      <th>away_score</th>\n",
       "      <th>tournament</th>\n",
       "      <th>city</th>\n",
       "      <th>country</th>\n",
       "      <th>neutral</th>\n",
       "      <th>Year</th>\n",
       "    </tr>\n",
       "  </thead>\n",
       "  <tbody>\n",
       "    <tr>\n",
       "      <th>0</th>\n",
       "      <td>1872-11-30</td>\n",
       "      <td>Scotland</td>\n",
       "      <td>England</td>\n",
       "      <td>0</td>\n",
       "      <td>0</td>\n",
       "      <td>Friendly</td>\n",
       "      <td>Glasgow</td>\n",
       "      <td>Scotland</td>\n",
       "      <td>False</td>\n",
       "      <td>1872</td>\n",
       "    </tr>\n",
       "    <tr>\n",
       "      <th>1</th>\n",
       "      <td>1873-03-08</td>\n",
       "      <td>England</td>\n",
       "      <td>Scotland</td>\n",
       "      <td>4</td>\n",
       "      <td>2</td>\n",
       "      <td>Friendly</td>\n",
       "      <td>London</td>\n",
       "      <td>England</td>\n",
       "      <td>False</td>\n",
       "      <td>1873</td>\n",
       "    </tr>\n",
       "    <tr>\n",
       "      <th>2</th>\n",
       "      <td>1874-03-07</td>\n",
       "      <td>Scotland</td>\n",
       "      <td>England</td>\n",
       "      <td>2</td>\n",
       "      <td>1</td>\n",
       "      <td>Friendly</td>\n",
       "      <td>Glasgow</td>\n",
       "      <td>Scotland</td>\n",
       "      <td>False</td>\n",
       "      <td>1874</td>\n",
       "    </tr>\n",
       "    <tr>\n",
       "      <th>3</th>\n",
       "      <td>1875-03-06</td>\n",
       "      <td>England</td>\n",
       "      <td>Scotland</td>\n",
       "      <td>2</td>\n",
       "      <td>2</td>\n",
       "      <td>Friendly</td>\n",
       "      <td>London</td>\n",
       "      <td>England</td>\n",
       "      <td>False</td>\n",
       "      <td>1875</td>\n",
       "    </tr>\n",
       "    <tr>\n",
       "      <th>4</th>\n",
       "      <td>1876-03-04</td>\n",
       "      <td>Scotland</td>\n",
       "      <td>England</td>\n",
       "      <td>3</td>\n",
       "      <td>0</td>\n",
       "      <td>Friendly</td>\n",
       "      <td>Glasgow</td>\n",
       "      <td>Scotland</td>\n",
       "      <td>False</td>\n",
       "      <td>1876</td>\n",
       "    </tr>\n",
       "  </tbody>\n",
       "</table>\n",
       "</div>"
      ],
      "text/plain": [
       "         date home_team away_team  home_score  away_score tournament     city  \\\n",
       "0  1872-11-30  Scotland   England           0           0   Friendly  Glasgow   \n",
       "1  1873-03-08   England  Scotland           4           2   Friendly   London   \n",
       "2  1874-03-07  Scotland   England           2           1   Friendly  Glasgow   \n",
       "3  1875-03-06   England  Scotland           2           2   Friendly   London   \n",
       "4  1876-03-04  Scotland   England           3           0   Friendly  Glasgow   \n",
       "\n",
       "    country  neutral  Year  \n",
       "0  Scotland    False  1872  \n",
       "1   England    False  1873  \n",
       "2  Scotland    False  1874  \n",
       "3   England    False  1875  \n",
       "4  Scotland    False  1876  "
      ]
     },
     "execution_count": 54,
     "metadata": {},
     "output_type": "execute_result"
    }
   ],
   "source": [
    "df.head()"
   ]
  },
  {
   "cell_type": "code",
   "execution_count": 55,
   "metadata": {},
   "outputs": [],
   "source": [
    "# To get the name of the team won\n",
    "def teamWon(df):\n",
    "    if(df['home_score']>df['away_score']):\n",
    "        return df.home_team\n",
    "    elif(df['home_score']<df['away_score']):\n",
    "        return df.away_team\n",
    "    elif(df['home_score']==df['away_score']):\n",
    "        return 0\n",
    "    "
   ]
  },
  {
   "cell_type": "code",
   "execution_count": 56,
   "metadata": {},
   "outputs": [],
   "source": [
    "# applying the teamWon function\n",
    "df[\"TeamWon\"] = df.apply(teamWon,axis = 1)"
   ]
  },
  {
   "cell_type": "code",
   "execution_count": 57,
   "metadata": {},
   "outputs": [
    {
     "data": {
      "text/html": [
       "<div>\n",
       "<style scoped>\n",
       "    .dataframe tbody tr th:only-of-type {\n",
       "        vertical-align: middle;\n",
       "    }\n",
       "\n",
       "    .dataframe tbody tr th {\n",
       "        vertical-align: top;\n",
       "    }\n",
       "\n",
       "    .dataframe thead th {\n",
       "        text-align: right;\n",
       "    }\n",
       "</style>\n",
       "<table border=\"1\" class=\"dataframe\">\n",
       "  <thead>\n",
       "    <tr style=\"text-align: right;\">\n",
       "      <th></th>\n",
       "      <th>date</th>\n",
       "      <th>home_team</th>\n",
       "      <th>away_team</th>\n",
       "      <th>home_score</th>\n",
       "      <th>away_score</th>\n",
       "      <th>tournament</th>\n",
       "      <th>city</th>\n",
       "      <th>country</th>\n",
       "      <th>neutral</th>\n",
       "      <th>Year</th>\n",
       "      <th>TeamWon</th>\n",
       "    </tr>\n",
       "  </thead>\n",
       "  <tbody>\n",
       "    <tr>\n",
       "      <th>0</th>\n",
       "      <td>1872-11-30</td>\n",
       "      <td>Scotland</td>\n",
       "      <td>England</td>\n",
       "      <td>0</td>\n",
       "      <td>0</td>\n",
       "      <td>Friendly</td>\n",
       "      <td>Glasgow</td>\n",
       "      <td>Scotland</td>\n",
       "      <td>False</td>\n",
       "      <td>1872</td>\n",
       "      <td>0</td>\n",
       "    </tr>\n",
       "    <tr>\n",
       "      <th>1</th>\n",
       "      <td>1873-03-08</td>\n",
       "      <td>England</td>\n",
       "      <td>Scotland</td>\n",
       "      <td>4</td>\n",
       "      <td>2</td>\n",
       "      <td>Friendly</td>\n",
       "      <td>London</td>\n",
       "      <td>England</td>\n",
       "      <td>False</td>\n",
       "      <td>1873</td>\n",
       "      <td>England</td>\n",
       "    </tr>\n",
       "    <tr>\n",
       "      <th>2</th>\n",
       "      <td>1874-03-07</td>\n",
       "      <td>Scotland</td>\n",
       "      <td>England</td>\n",
       "      <td>2</td>\n",
       "      <td>1</td>\n",
       "      <td>Friendly</td>\n",
       "      <td>Glasgow</td>\n",
       "      <td>Scotland</td>\n",
       "      <td>False</td>\n",
       "      <td>1874</td>\n",
       "      <td>Scotland</td>\n",
       "    </tr>\n",
       "    <tr>\n",
       "      <th>3</th>\n",
       "      <td>1875-03-06</td>\n",
       "      <td>England</td>\n",
       "      <td>Scotland</td>\n",
       "      <td>2</td>\n",
       "      <td>2</td>\n",
       "      <td>Friendly</td>\n",
       "      <td>London</td>\n",
       "      <td>England</td>\n",
       "      <td>False</td>\n",
       "      <td>1875</td>\n",
       "      <td>0</td>\n",
       "    </tr>\n",
       "    <tr>\n",
       "      <th>4</th>\n",
       "      <td>1876-03-04</td>\n",
       "      <td>Scotland</td>\n",
       "      <td>England</td>\n",
       "      <td>3</td>\n",
       "      <td>0</td>\n",
       "      <td>Friendly</td>\n",
       "      <td>Glasgow</td>\n",
       "      <td>Scotland</td>\n",
       "      <td>False</td>\n",
       "      <td>1876</td>\n",
       "      <td>Scotland</td>\n",
       "    </tr>\n",
       "  </tbody>\n",
       "</table>\n",
       "</div>"
      ],
      "text/plain": [
       "         date home_team away_team  home_score  away_score tournament     city  \\\n",
       "0  1872-11-30  Scotland   England           0           0   Friendly  Glasgow   \n",
       "1  1873-03-08   England  Scotland           4           2   Friendly   London   \n",
       "2  1874-03-07  Scotland   England           2           1   Friendly  Glasgow   \n",
       "3  1875-03-06   England  Scotland           2           2   Friendly   London   \n",
       "4  1876-03-04  Scotland   England           3           0   Friendly  Glasgow   \n",
       "\n",
       "    country  neutral  Year   TeamWon  \n",
       "0  Scotland    False  1872         0  \n",
       "1   England    False  1873   England  \n",
       "2  Scotland    False  1874  Scotland  \n",
       "3   England    False  1875         0  \n",
       "4  Scotland    False  1876  Scotland  "
      ]
     },
     "execution_count": 57,
     "metadata": {},
     "output_type": "execute_result"
    }
   ],
   "source": [
    "df.head()"
   ]
  },
  {
   "cell_type": "code",
   "execution_count": 58,
   "metadata": {},
   "outputs": [],
   "source": [
    "# Converting df column to list\n",
    "listwon = df.TeamWon.values.tolist()"
   ]
  },
  {
   "cell_type": "code",
   "execution_count": 59,
   "metadata": {},
   "outputs": [],
   "source": [
    "# Getting the number of wins of each team and converting it to a dictionary \n",
    "# https://stackoverflow.com/questions/11068986/how-to-convert-counter-object-to-dict\n",
    "dictWon = dict(Counter(listwon))"
   ]
  },
  {
   "cell_type": "code",
   "execution_count": 60,
   "metadata": {},
   "outputs": [],
   "source": [
    "# creating two new lists to put countries who got draws\n",
    "homedraws = []\n",
    "awaydraws = []"
   ]
  },
  {
   "cell_type": "code",
   "execution_count": 61,
   "metadata": {},
   "outputs": [],
   "source": [
    "# appending to the list\n",
    "for i in range(len(df.TeamWon)):\n",
    "    if df.TeamWon[i] == 0:\n",
    "        homedraws.append(df.home_team[i])\n",
    "        awaydraws.append(df.away_team[i])"
   ]
  },
  {
   "cell_type": "code",
   "execution_count": 62,
   "metadata": {},
   "outputs": [],
   "source": [
    "# Creating dictionaries \n",
    "homedrawsdict = dict(Counter(homedraws))\n",
    "awaydrawsdict = dict(Counter(awaydraws))"
   ]
  },
  {
   "cell_type": "code",
   "execution_count": 63,
   "metadata": {},
   "outputs": [],
   "source": [
    "#https://stackoverflow.com/questions/10461531/merge-and-sum-of-two-dictionaries\n",
    "alldrawsdict = dict(Counter(homedrawsdict)+ Counter(awaydrawsdict))"
   ]
  },
  {
   "cell_type": "code",
   "execution_count": 64,
   "metadata": {},
   "outputs": [],
   "source": [
    "# Number of home games played\n",
    "homegamesdict = dict(Counter(df.home_team.values.tolist()))\n",
    "# Number of away games played\n",
    "awaygamesdict = dict(Counter(df.away_team.values.tolist()))\n",
    "# Number of total games played\n",
    "totalgamesdict = dict(Counter(homegamesdict)+Counter(awaygamesdict))"
   ]
  },
  {
   "cell_type": "code",
   "execution_count": 65,
   "metadata": {},
   "outputs": [],
   "source": [
    "# Updating alldrawsdict to contain zero for countries which doesnt have draws\n",
    "for k,v in totalgamesdict.items():\n",
    "    if k not in alldrawsdict:\n",
    "        alldrawsdict[k] = 0"
   ]
  },
  {
   "cell_type": "code",
   "execution_count": 66,
   "metadata": {},
   "outputs": [],
   "source": [
    "# Updating dictWon to contain zero for countries which doesnt have wins\n",
    "for k,v in totalgamesdict.items():\n",
    "    if k not in dictWon:\n",
    "        dictWon[k] = 0\n"
   ]
  },
  {
   "cell_type": "code",
   "execution_count": 67,
   "metadata": {},
   "outputs": [],
   "source": [
    "# get the total number of games played\n",
    "totalmatches = 0\n",
    "for k,v in totalgamesdict.items():\n",
    "    totalmatches += totalgamesdict[k]"
   ]
  },
  {
   "cell_type": "code",
   "execution_count": 68,
   "metadata": {},
   "outputs": [
    {
     "name": "stdout",
     "output_type": "stream",
     "text": [
      "269.7564102564103\n"
     ]
    }
   ],
   "source": [
    "# average games played by a team\n",
    "averageGames = totalmatches/len(totalgamesdict)\n",
    "print(averageGames)"
   ]
  },
  {
   "cell_type": "code",
   "execution_count": 69,
   "metadata": {},
   "outputs": [],
   "source": [
    "wondict_ = {}\n",
    "for k,v in totalgamesdict.items():\n",
    "    if v >= averageGames:\n",
    "        try:\n",
    "            wondict_[k] = (dictWon[k]+0.5*alldrawsdict[k])/totalgamesdict[k]\n",
    "        except KeyError:\n",
    "            print(k)"
   ]
  },
  {
   "cell_type": "code",
   "execution_count": 70,
   "metadata": {},
   "outputs": [],
   "source": [
    "sorted_wondict = sorted(wondict_.items(), key = lambda x:x[1], reverse = True)"
   ]
  },
  {
   "cell_type": "code",
   "execution_count": 26,
   "metadata": {},
   "outputs": [
    {
     "data": {
      "text/plain": [
       "[('Brazil', 0.7395939086294416),\n",
       " ('Spain', 0.6985815602836879),\n",
       " ('England', 0.6877450980392157),\n",
       " ('Germany', 0.6857440166493236),\n",
       " ('Iran', 0.6752988047808764),\n",
       " ('Italy', 0.6705665024630542),\n",
       " ('Argentina', 0.6615853658536586),\n",
       " ('Croatia', 0.6595744680851063),\n",
       " ('South Korea', 0.6543352601156069),\n",
       " ('Russia', 0.6418439716312057),\n",
       " ('Czech Republic', 0.6363636363636364),\n",
       " ('Ivory Coast', 0.6239015817223199),\n",
       " ('Mexico', 0.6211428571428571),\n",
       " ('Netherlands', 0.6206030150753769),\n",
       " ('Egypt', 0.6132075471698113),\n",
       " ('Morocco', 0.6103896103896104),\n",
       " ('Ghana', 0.609271523178808),\n",
       " ('Nigeria', 0.6077586206896551),\n",
       " ('Australia', 0.6054158607350096),\n",
       " ('France', 0.6051703877790834),\n",
       " ('Iraq', 0.605072463768116),\n",
       " ('Portugal', 0.6033653846153846),\n",
       " ('Sweden', 0.6004854368932039),\n",
       " ('Japan', 0.5963665086887836),\n",
       " ('China PR', 0.5947986577181208),\n",
       " ('Saudi Arabia', 0.5923566878980892),\n",
       " ('Ukraine', 0.5899280575539568),\n",
       " ('Zambia', 0.5899031811894883),\n",
       " ('Cameroon', 0.5882899628252788),\n",
       " ('Martinique', 0.5855263157894737),\n",
       " ('Scotland', 0.5816455696202532),\n",
       " ('German DR', 0.5805369127516778),\n",
       " ('Hungary', 0.5784729586426299),\n",
       " ('South Africa', 0.5767326732673267),\n",
       " ('Serbia', 0.5751748251748252),\n",
       " ('Senegal', 0.5733082706766918),\n",
       " ('Romania', 0.5674715909090909),\n",
       " ('Yugoslavia', 0.5654885654885655),\n",
       " ('Tunisia', 0.564957264957265),\n",
       " ('Algeria', 0.56286836935167),\n",
       " ('Czechoslovakia', 0.562374245472837),\n",
       " ('Uganda', 0.5599041533546326),\n",
       " ('Suriname', 0.5585714285714286),\n",
       " ('Denmark', 0.5583126550868487),\n",
       " ('North Korea', 0.5573529411764706),\n",
       " ('Poland', 0.5568319226118501),\n",
       " ('Uruguay', 0.5545556805399325),\n",
       " ('Kuwait', 0.5536971830985915),\n",
       " ('Zimbabwe', 0.55119825708061),\n",
       " ('Costa Rica', 0.5492610837438424),\n",
       " ('Belgium', 0.5442875481386393),\n",
       " ('Trinidad and Tobago', 0.5396706586826348),\n",
       " ('Honduras', 0.5385356454720617),\n",
       " ('United States', 0.5384057971014493),\n",
       " ('Uzbekistan', 0.5373665480427047),\n",
       " ('Qatar', 0.5333333333333333),\n",
       " ('Burma', 0.530791788856305),\n",
       " ('DR Congo', 0.528969957081545),\n",
       " ('Haiti', 0.5288888888888889),\n",
       " ('Mali', 0.5268924302788844),\n",
       " ('Austria', 0.52625),\n",
       " ('Colombia', 0.5252707581227437),\n",
       " ('Republic of Ireland', 0.5251736111111112),\n",
       " ('United Arab Emirates', 0.5247148288973384),\n",
       " ('Slovakia', 0.5216666666666666),\n",
       " ('Angola', 0.5197183098591549),\n",
       " ('Turkey', 0.509515570934256),\n",
       " ('Guinea', 0.5085287846481876),\n",
       " ('Jamaica', 0.5052910052910053),\n",
       " ('Kenya', 0.5038461538461538),\n",
       " ('Curaçao', 0.5014970059880239),\n",
       " ('Jordan', 0.50125),\n",
       " ('Malawi', 0.49735915492957744),\n",
       " ('Greece', 0.4965217391304348),\n",
       " ('Oman', 0.49557522123893805),\n",
       " ('Syria', 0.49387254901960786),\n",
       " ('New Zealand', 0.4930939226519337),\n",
       " ('Gabon', 0.4930939226519337),\n",
       " ('Bulgaria', 0.49266862170087977),\n",
       " ('Libya', 0.4896755162241888),\n",
       " ('Paraguay', 0.48819444444444443),\n",
       " ('Chile', 0.48759791122715407),\n",
       " ('Thailand', 0.486697965571205),\n",
       " ('Guatemala', 0.4810267857142857),\n",
       " ('Bahrain', 0.4807692307692308),\n",
       " ('Norway', 0.4797297297297297),\n",
       " ('Ethiopia', 0.47540983606557374),\n",
       " ('Malaysia', 0.473421926910299),\n",
       " ('Indonesia', 0.47106690777576854),\n",
       " ('Congo', 0.4708994708994709),\n",
       " ('Israel', 0.4691075514874142),\n",
       " ('Canada', 0.46866840731070497),\n",
       " ('Sudan', 0.4614427860696517),\n",
       " ('Burkina Faso', 0.4604591836734694),\n",
       " ('Switzerland', 0.4603960396039604),\n",
       " ('Cuba', 0.45870206489675514),\n",
       " ('India', 0.45689655172413796),\n",
       " ('Mozambique', 0.44625407166123776),\n",
       " ('El Salvador', 0.44345238095238093),\n",
       " ('Peru', 0.44258373205741625),\n",
       " ('Hong Kong', 0.4383033419023136),\n",
       " ('Togo', 0.4370179948586118),\n",
       " ('Panama', 0.435632183908046),\n",
       " ('Wales', 0.4295352323838081),\n",
       " ('Ecuador', 0.42263056092843326),\n",
       " ('Tanzania', 0.41869158878504675),\n",
       " ('Botswana', 0.41637010676156583),\n",
       " ('Lebanon', 0.4148550724637681),\n",
       " ('Iceland', 0.4037199124726477),\n",
       " ('Latvia', 0.40222772277227725),\n",
       " ('Singapore', 0.39928057553956836),\n",
       " ('Lithuania', 0.36904761904761907),\n",
       " ('Northern Ireland', 0.36850152905198774),\n",
       " ('Albania', 0.3669590643274854),\n",
       " ('Finland', 0.36243386243386244),\n",
       " ('Estonia', 0.35655737704918034),\n",
       " ('Venezuela', 0.35324675324675325),\n",
       " ('Bolivia', 0.3394396551724138),\n",
       " ('Cyprus', 0.2734584450402145),\n",
       " ('Malta', 0.21200980392156862),\n",
       " ('Luxembourg', 0.1549636803874092)]"
      ]
     },
     "execution_count": 26,
     "metadata": {},
     "output_type": "execute_result"
    }
   ],
   "source": [
    "sorted_wondict"
   ]
  },
  {
   "cell_type": "code",
   "execution_count": 33,
   "metadata": {},
   "outputs": [],
   "source": [
    "dfRank = pd.DataFrame.from_dict(sorted_wondict)"
   ]
  },
  {
   "cell_type": "code",
   "execution_count": 35,
   "metadata": {},
   "outputs": [],
   "source": [
    "dfRank.columns = ['Team','Percentage']"
   ]
  },
  {
   "cell_type": "code",
   "execution_count": 36,
   "metadata": {},
   "outputs": [
    {
     "data": {
      "text/html": [
       "<div>\n",
       "<style scoped>\n",
       "    .dataframe tbody tr th:only-of-type {\n",
       "        vertical-align: middle;\n",
       "    }\n",
       "\n",
       "    .dataframe tbody tr th {\n",
       "        vertical-align: top;\n",
       "    }\n",
       "\n",
       "    .dataframe thead th {\n",
       "        text-align: right;\n",
       "    }\n",
       "</style>\n",
       "<table border=\"1\" class=\"dataframe\">\n",
       "  <thead>\n",
       "    <tr style=\"text-align: right;\">\n",
       "      <th></th>\n",
       "      <th>Team</th>\n",
       "      <th>Percentage</th>\n",
       "    </tr>\n",
       "  </thead>\n",
       "  <tbody>\n",
       "    <tr>\n",
       "      <th>0</th>\n",
       "      <td>Brazil</td>\n",
       "      <td>0.739594</td>\n",
       "    </tr>\n",
       "    <tr>\n",
       "      <th>1</th>\n",
       "      <td>Spain</td>\n",
       "      <td>0.698582</td>\n",
       "    </tr>\n",
       "    <tr>\n",
       "      <th>2</th>\n",
       "      <td>England</td>\n",
       "      <td>0.687745</td>\n",
       "    </tr>\n",
       "    <tr>\n",
       "      <th>3</th>\n",
       "      <td>Germany</td>\n",
       "      <td>0.685744</td>\n",
       "    </tr>\n",
       "    <tr>\n",
       "      <th>4</th>\n",
       "      <td>Iran</td>\n",
       "      <td>0.675299</td>\n",
       "    </tr>\n",
       "  </tbody>\n",
       "</table>\n",
       "</div>"
      ],
      "text/plain": [
       "      Team  Percentage\n",
       "0   Brazil    0.739594\n",
       "1    Spain    0.698582\n",
       "2  England    0.687745\n",
       "3  Germany    0.685744\n",
       "4     Iran    0.675299"
      ]
     },
     "execution_count": 36,
     "metadata": {},
     "output_type": "execute_result"
    }
   ],
   "source": [
    "dfRank.head()"
   ]
  },
  {
   "cell_type": "code",
   "execution_count": null,
   "metadata": {},
   "outputs": [],
   "source": []
  }
 ],
 "metadata": {
  "kernelspec": {
   "display_name": "Python 3",
   "language": "python",
   "name": "python3"
  },
  "language_info": {
   "codemirror_mode": {
    "name": "ipython",
    "version": 3
   },
   "file_extension": ".py",
   "mimetype": "text/x-python",
   "name": "python",
   "nbconvert_exporter": "python",
   "pygments_lexer": "ipython3",
   "version": "3.7.6"
  }
 },
 "nbformat": 4,
 "nbformat_minor": 4
}
